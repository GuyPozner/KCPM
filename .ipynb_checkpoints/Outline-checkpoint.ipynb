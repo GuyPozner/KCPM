{
 "cells": [
  {
   "cell_type": "markdown",
   "metadata": {},
   "source": [
    "# Kaggle Personalized Medicine - Cancer Article Classification"
   ]
  },
  {
   "cell_type": "markdown",
   "metadata": {},
   "source": [
    "## The Data\n",
    "\n",
    "    1. ID - numeric identification of the specific variation in the gene.\n",
    "    2. Gene - gene name.\n",
    "    3. Variation - amino acid replacement/other mutation description(deletion/truncted).\n",
    "    4. Related articles."
   ]
  },
  {
   "cell_type": "markdown",
   "metadata": {},
   "source": [
    "## The Target\n",
    "\n",
    "9 \"Unknown\" cancer related mutation calssification."
   ]
  },
  {
   "cell_type": "markdown",
   "metadata": {},
   "source": [
    "## Requirements\n",
    "\n",
    "* Beautiful soup\n",
    "* Spacy\n",
    "* Gensim Word2Vec\n",
    "* Keras\n",
    "* Customized Attention Neural Net"
   ]
  },
  {
   "cell_type": "markdown",
   "metadata": {},
   "source": [
    "## Pipeline\n",
    "\n",
    "### Document classification pipeline:\n",
    "\n",
    "    1. Cancer article scarper with beautiful soup.\n",
    "    2. Text preprocessor with spacy.\n",
    "    3. Creating word embeddings with word2vec.\n",
    "    4. Use a Keras LSTM to convert the sequence of word vectors into a sentence matrix.\n",
    "    5. Reduce the sentence matrix into sentence vector using a customized attentional neural net.\n",
    "    6. Use a shallow fully connected network to classify the the reduced vectors.\n",
    "\n",
    "### Optional gene annotation feature:\n",
    "    \n",
    "    1. Classify genes into groups.\n",
    "    2. Use an enssemble classifier to make the documents classification more accurate.\n",
    "    "
   ]
  },
  {
   "cell_type": "markdown",
   "metadata": {},
   "source": [
    "### Cancer article scraper.\n",
    "Use Beuatiful soup in order to download cancer related scientific papers in order to enrich the word2vec embbedings data."
   ]
  },
  {
   "cell_type": "markdown",
   "metadata": {},
   "source": [
    "### Text preprocessor\n",
    "\n",
    "Use spacy to:\n",
    "    1. Remove Non alpha numeric characters ,DNA sequences, protein sequences & sequences of numbers.\n",
    "    2. Remove stop words and common scientific article related words(Abstract, results, methods...).\n",
    "    3. Create bigrams and trigrams.\n",
    "    4. Create a bag of sentences for word2vec training."
   ]
  },
  {
   "cell_type": "markdown",
   "metadata": {},
   "source": [
    "### Create word embeddings\n",
    "\n",
    "Use gensim word2vec in order to convert the words into a vector space."
   ]
  }
 ],
 "metadata": {
  "kernelspec": {
   "display_name": "Python 3",
   "language": "python",
   "name": "python3"
  },
  "language_info": {
   "codemirror_mode": {
    "name": "ipython",
    "version": 3
   },
   "file_extension": ".py",
   "mimetype": "text/x-python",
   "name": "python",
   "nbconvert_exporter": "python",
   "pygments_lexer": "ipython3",
   "version": "3.6.0"
  }
 },
 "nbformat": 4,
 "nbformat_minor": 2
}
