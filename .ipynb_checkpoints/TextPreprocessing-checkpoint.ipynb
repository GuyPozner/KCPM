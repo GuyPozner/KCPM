{
 "cells": [
  {
   "cell_type": "code",
   "execution_count": 65,
   "metadata": {
    "collapsed": false
   },
   "outputs": [],
   "source": [
    "import pandas as pd\n",
    "import spacy\n",
    "from spacy.en import English\n",
    "from gensim.models.phrases import Phraser\n",
    "nlp = spacy.load('en')"
   ]
  },
  {
   "cell_type": "code",
   "execution_count": 8,
   "metadata": {
    "collapsed": false
   },
   "outputs": [],
   "source": [
    "# Adding stop words to the spacy vocabulary\n",
    "stop_words = ['abstract', 'methods', 'discussion', 'results', 'figure', 'fig']\n",
    "for stop_word in stop_words:\n",
    "    lexme = nlp.vocab[stop_word]\n",
    "    lexme.is_stop = True"
   ]
  },
  {
   "cell_type": "code",
   "execution_count": 10,
   "metadata": {
    "collapsed": false
   },
   "outputs": [],
   "source": [
    "# Read the texts\n",
    "train_text = pd.read_csv('data/training_text', sep = \"\\|\\|\", engine = 'python', header=None, skiprows=1, names=[\"ID\",\"Text\"], encoding = 'utf-8')\n",
    "test_text = pd.read_csv('data/test_text', sep = '\\|\\|', engine = 'python', header=None, skiprows=1, names=[\"ID\",\"Text\"], encoding = 'utf-8')"
   ]
  },
  {
   "cell_type": "code",
   "execution_count": 26,
   "metadata": {
    "collapsed": false
   },
   "outputs": [],
   "source": [
    "# Combine all the texts into strings as a corpus\n",
    "def combine_texts(texts):\n",
    "    raw_corpus = ''\n",
    "    for text in texts:\n",
    "        raw_corpus += ' ' + text\n",
    "    return raw_corpus\n",
    "\n",
    "raw_corpus = combine_texts(train_text['Text']) + combine_texts(test_text['Text'])"
   ]
  },
  {
   "cell_type": "code",
   "execution_count": 60,
   "metadata": {
    "collapsed": false
   },
   "outputs": [],
   "source": [
    "# Clean the corpus\n",
    "def clean_corpus(raw_corpus):\n",
    "    annotated_corpus = nlp(raw_corpus)\n",
    "    sentences = []\n",
    "    for sentence in annotated_corpus.sents:\n",
    "        word_list = []\n",
    "        for word in sentence:\n",
    "            if not word.is_stop and not word.is_punct and not len(w) > 16 and not word.like_num:\n",
    "                word_list.append(word.orth_)\n",
    "        sentences.append(word_list)\n",
    "    return sentences"
   ]
  },
  {
   "cell_type": "code",
   "execution_count": 83,
   "metadata": {
    "collapsed": false
   },
   "outputs": [
    {
     "name": "stderr",
     "output_type": "stream",
     "text": [
      "/Users/apple/anaconda3/lib/python3.6/site-packages/gensim/models/phrases.py:274: UserWarning: For a faster implementation, use the gensim.models.phrases.Phraser class\n",
      "  warnings.warn(\"For a faster implementation, use the gensim.models.phrases.Phraser class\")\n"
     ]
    }
   ],
   "source": [
    "# Create bigrams and trigrmas? Help here please\n",
    "sentence = clean_corpus(raw_corpus[:10000])\n",
    "bigramer = Phrases(sentences)\n",
    "trigram = Phrases(bigram[raw_corpus[:10000]])"
   ]
  },
  {
   "cell_type": "code",
   "execution_count": 82,
   "metadata": {
    "collapsed": false
   },
   "outputs": [
    {
     "name": "stdout",
     "output_type": "stream",
     "text": [
      "(b'cyclin M', 14.353741496598639)\n",
      "(b'STAR syndrome', 13.1875)\n",
      "(b'STAR syndrome', 13.1875)\n",
      "(b'cyclin M', 14.353741496598639)\n",
      "(b'cyclin M', 14.353741496598639)\n",
      "(b'STAR syndrome', 13.1875)\n",
      "(b'cyclin M', 14.353741496598639)\n",
      "(b'cyclin M', 14.353741496598639)\n",
      "(b'STAR syndrome', 13.1875)\n",
      "(b'cyclin M', 14.353741496598639)\n",
      "(b'STAR syndrome', 13.1875)\n",
      "(b'cyclin M', 14.353741496598639)\n",
      "(b'cyclin M', 14.353741496598639)\n",
      "(b'cyclin M', 14.353741496598639)\n",
      "(b'cyclin M', 14.353741496598639)\n",
      "(b'cyclin M', 14.353741496598639)\n",
      "(b'cyclin M', 14.353741496598639)\n",
      "(b'cyclin M', 14.353741496598639)\n",
      "(b'cyclin M', 14.353741496598639)\n",
      "(b'STAR syndrome', 13.1875)\n",
      "(b'cyclin M', 14.353741496598639)\n"
     ]
    }
   ],
   "source": [
    "for i in bigramer.export_phrases(sentences):\n",
    "    print(i)"
   ]
  },
  {
   "cell_type": "code",
   "execution_count": null,
   "metadata": {
    "collapsed": true
   },
   "outputs": [],
   "source": []
  }
 ],
 "metadata": {
  "kernelspec": {
   "display_name": "Python 3",
   "language": "python",
   "name": "python3"
  },
  "language_info": {
   "codemirror_mode": {
    "name": "ipython",
    "version": 3
   },
   "file_extension": ".py",
   "mimetype": "text/x-python",
   "name": "python",
   "nbconvert_exporter": "python",
   "pygments_lexer": "ipython3",
   "version": "3.6.0"
  }
 },
 "nbformat": 4,
 "nbformat_minor": 2
}
